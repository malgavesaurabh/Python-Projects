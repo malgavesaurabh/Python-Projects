{
  "cells": [
    {
      "cell_type": "markdown",
      "metadata": {
        "id": "view-in-github",
        "colab_type": "text"
      },
      "source": [
        "<a href=\"https://colab.research.google.com/github/malgavesaurabh/Python-Projects/blob/main/EmailClassifier.ipynb\" target=\"_parent\"><img src=\"https://colab.research.google.com/assets/colab-badge.svg\" alt=\"Open In Colab\"/></a>"
      ]
    },
    {
      "cell_type": "code",
      "execution_count": null,
      "metadata": {
        "colab": {
          "base_uri": "https://localhost:8080/"
        },
        "id": "D9acR3BdPfyE",
        "outputId": "6b462164-d507-47e2-b792-468af10a0dc6"
      },
      "outputs": [
        {
          "name": "stdout",
          "output_type": "stream",
          "text": [
            "Collecting faker\n",
            "  Downloading Faker-19.2.0-py3-none-any.whl (1.7 MB)\n",
            "\u001b[2K     \u001b[90m━━━━━━━━━━━━━━━━━━━━━━━━━━━━━━━━━━━━━━━━\u001b[0m \u001b[32m1.7/1.7 MB\u001b[0m \u001b[31m11.9 MB/s\u001b[0m eta \u001b[36m0:00:00\u001b[0m\n",
            "\u001b[?25hRequirement already satisfied: python-dateutil>=2.4 in /usr/local/lib/python3.10/dist-packages (from faker) (2.8.2)\n",
            "Requirement already satisfied: six>=1.5 in /usr/local/lib/python3.10/dist-packages (from python-dateutil>=2.4->faker) (1.16.0)\n",
            "Installing collected packages: faker\n",
            "Successfully installed faker-19.2.0\n"
          ]
        }
      ],
      "source": [
        "pip install faker"
      ]
    },
    {
      "cell_type": "code",
      "execution_count": null,
      "metadata": {
        "colab": {
          "base_uri": "https://localhost:8080/"
        },
        "id": "-vQY-R6we5fs",
        "outputId": "68827b2b-b1e3-4d94-e1aa-4828e08298f6"
      },
      "outputs": [
        {
          "name": "stdout",
          "output_type": "stream",
          "text": [
            "Drive already mounted at /content/drive; to attempt to forcibly remount, call drive.mount(\"/content/drive\", force_remount=True).\n",
            "6000 unknown email samples have been generated and saved to 'unknown_dataset.csv'.\n"
          ]
        }
      ],
      "source": [
        "import csv\n",
        "from faker import Faker\n",
        "import os\n",
        "\n",
        "# Install the faker library if not already installed\n",
        "try:\n",
        "    import faker\n",
        "except ImportError:\n",
        "    !pip install Faker\n",
        "    import faker\n",
        "\n",
        "# Create a Faker object\n",
        "fake = Faker()\n",
        "\n",
        "# Number of email samples you want to generate (6000 in this case)\n",
        "num_samples = 6000\n",
        "\n",
        "# Function to generate a random email body for unknown category\n",
        "def generate_unknown_email():\n",
        "    email_body = f\"Subject: {fake.catch_phrase()}\\n\\n\"\n",
        "    email_body += f\"Dear {fake.name()},\\n\\n\"\n",
        "    email_body += f\"I hope this email finds you well. We are reaching out to you to introduce our company and services. We believe that our offerings can add significant value to your business.\\n\\n\"\n",
        "    email_body += f\"{fake.paragraph()}\\n\\n\"\n",
        "    email_body += f\"If you are interested in learning more, please reply to this email or visit our website: {fake.url()}\\n\\n\"\n",
        "    email_body += \"Thank you for your time and consideration.\\n\\n\"\n",
        "    email_body += \"Best regards,\\n\"\n",
        "    email_body += f\"{fake.company()}\\n\"\n",
        "    email_body += f\"{fake.email()}\"\n",
        "    return email_body\n",
        "\n",
        "# Mount Google Drive\n",
        "from google.colab import drive\n",
        "drive.mount('/content/drive')\n",
        "\n",
        "# Replace \"/content/drive/MyDrive/DataSets\" with the desired folder path in your Google Drive\n",
        "folder_path = \"/content/drive/MyDrive/DataSets\"\n",
        "\n",
        "# Create the \"DataSets\" folder if it doesn't exist\n",
        "os.makedirs(folder_path, exist_ok=True)\n",
        "\n",
        "# Update the file path to save the CSV file in your Google Drive\n",
        "file_path = os.path.join(folder_path, \"unknown_dataset.csv\")\n",
        "\n",
        "# Generate the unknown email samples and save them to a CSV file\n",
        "with open(file_path, \"w\", newline=\"\", encoding=\"utf-8\") as csvfile:\n",
        "    fieldnames = [\"Label\", \"Email Body\"]\n",
        "    writer = csv.DictWriter(csvfile, fieldnames=fieldnames)\n",
        "    writer.writeheader()\n",
        "\n",
        "    for i in range(num_samples):\n",
        "        email_body = generate_unknown_email()\n",
        "        writer.writerow({\"Label\": \"Unknown\", \"Email Body\": email_body})\n",
        "\n",
        "print(\"6000 unknown email samples have been generated and saved to 'unknown_dataset.csv'.\")\n"
      ]
    },
    {
      "cell_type": "code",
      "execution_count": null,
      "metadata": {
        "colab": {
          "background_save": true,
          "base_uri": "https://localhost:8080/"
        },
        "id": "DoFliGs6ly41",
        "outputId": "08b6cd2e-148e-4aab-91ca-1bec34a8ef01"
      },
      "outputs": [
        {
          "ename": "KeyboardInterrupt",
          "evalue": "ignored",
          "output_type": "error",
          "traceback": [
            "\u001b[0;31m---------------------------------------------------------------------------\u001b[0m",
            "\u001b[0;31mKeyboardInterrupt\u001b[0m                         Traceback (most recent call last)",
            "\u001b[0;32m<ipython-input-1-401cb1ec7e0f>\u001b[0m in \u001b[0;36m<cell line: 29>\u001b[0;34m()\u001b[0m\n\u001b[1;32m     27\u001b[0m \u001b[0;31m# Mount Google Drive\u001b[0m\u001b[0;34m\u001b[0m\u001b[0;34m\u001b[0m\u001b[0m\n\u001b[1;32m     28\u001b[0m \u001b[0;32mfrom\u001b[0m \u001b[0mgoogle\u001b[0m\u001b[0;34m.\u001b[0m\u001b[0mcolab\u001b[0m \u001b[0;32mimport\u001b[0m \u001b[0mdrive\u001b[0m\u001b[0;34m\u001b[0m\u001b[0;34m\u001b[0m\u001b[0m\n\u001b[0;32m---> 29\u001b[0;31m \u001b[0mdrive\u001b[0m\u001b[0;34m.\u001b[0m\u001b[0mmount\u001b[0m\u001b[0;34m(\u001b[0m\u001b[0;34m'/content/drive'\u001b[0m\u001b[0;34m)\u001b[0m\u001b[0;34m\u001b[0m\u001b[0;34m\u001b[0m\u001b[0m\n\u001b[0m\u001b[1;32m     30\u001b[0m \u001b[0;34m\u001b[0m\u001b[0m\n\u001b[1;32m     31\u001b[0m \u001b[0;31m# File path to save the trained model in Google Drive\u001b[0m\u001b[0;34m\u001b[0m\u001b[0;34m\u001b[0m\u001b[0m\n",
            "\u001b[0;32m/usr/local/lib/python3.10/dist-packages/google/colab/drive.py\u001b[0m in \u001b[0;36mmount\u001b[0;34m(mountpoint, force_remount, timeout_ms, readonly)\u001b[0m\n\u001b[1;32m    101\u001b[0m \u001b[0;32mdef\u001b[0m \u001b[0mmount\u001b[0m\u001b[0;34m(\u001b[0m\u001b[0mmountpoint\u001b[0m\u001b[0;34m,\u001b[0m \u001b[0mforce_remount\u001b[0m\u001b[0;34m=\u001b[0m\u001b[0;32mFalse\u001b[0m\u001b[0;34m,\u001b[0m \u001b[0mtimeout_ms\u001b[0m\u001b[0;34m=\u001b[0m\u001b[0;36m120000\u001b[0m\u001b[0;34m,\u001b[0m \u001b[0mreadonly\u001b[0m\u001b[0;34m=\u001b[0m\u001b[0;32mFalse\u001b[0m\u001b[0;34m)\u001b[0m\u001b[0;34m:\u001b[0m\u001b[0;34m\u001b[0m\u001b[0;34m\u001b[0m\u001b[0m\n\u001b[1;32m    102\u001b[0m   \u001b[0;34m\"\"\"Mount your Google Drive at the specified mountpoint path.\"\"\"\u001b[0m\u001b[0;34m\u001b[0m\u001b[0;34m\u001b[0m\u001b[0m\n\u001b[0;32m--> 103\u001b[0;31m   return _mount(\n\u001b[0m\u001b[1;32m    104\u001b[0m       \u001b[0mmountpoint\u001b[0m\u001b[0;34m,\u001b[0m\u001b[0;34m\u001b[0m\u001b[0;34m\u001b[0m\u001b[0m\n\u001b[1;32m    105\u001b[0m       \u001b[0mforce_remount\u001b[0m\u001b[0;34m=\u001b[0m\u001b[0mforce_remount\u001b[0m\u001b[0;34m,\u001b[0m\u001b[0;34m\u001b[0m\u001b[0;34m\u001b[0m\u001b[0m\n",
            "\u001b[0;32m/usr/local/lib/python3.10/dist-packages/google/colab/drive.py\u001b[0m in \u001b[0;36m_mount\u001b[0;34m(mountpoint, force_remount, timeout_ms, ephemeral, readonly)\u001b[0m\n\u001b[1;32m    130\u001b[0m   )\n\u001b[1;32m    131\u001b[0m   \u001b[0;32mif\u001b[0m \u001b[0mephemeral\u001b[0m\u001b[0;34m:\u001b[0m\u001b[0;34m\u001b[0m\u001b[0;34m\u001b[0m\u001b[0m\n\u001b[0;32m--> 132\u001b[0;31m     _message.blocking_request(\n\u001b[0m\u001b[1;32m    133\u001b[0m         \u001b[0;34m'request_auth'\u001b[0m\u001b[0;34m,\u001b[0m \u001b[0mrequest\u001b[0m\u001b[0;34m=\u001b[0m\u001b[0;34m{\u001b[0m\u001b[0;34m'authType'\u001b[0m\u001b[0;34m:\u001b[0m \u001b[0;34m'dfs_ephemeral'\u001b[0m\u001b[0;34m}\u001b[0m\u001b[0;34m,\u001b[0m \u001b[0mtimeout_sec\u001b[0m\u001b[0;34m=\u001b[0m\u001b[0;32mNone\u001b[0m\u001b[0;34m\u001b[0m\u001b[0;34m\u001b[0m\u001b[0m\n\u001b[1;32m    134\u001b[0m     )\n",
            "\u001b[0;32m/usr/local/lib/python3.10/dist-packages/google/colab/_message.py\u001b[0m in \u001b[0;36mblocking_request\u001b[0;34m(request_type, request, timeout_sec, parent)\u001b[0m\n\u001b[1;32m    174\u001b[0m       \u001b[0mrequest_type\u001b[0m\u001b[0;34m,\u001b[0m \u001b[0mrequest\u001b[0m\u001b[0;34m,\u001b[0m \u001b[0mparent\u001b[0m\u001b[0;34m=\u001b[0m\u001b[0mparent\u001b[0m\u001b[0;34m,\u001b[0m \u001b[0mexpect_reply\u001b[0m\u001b[0;34m=\u001b[0m\u001b[0;32mTrue\u001b[0m\u001b[0;34m\u001b[0m\u001b[0;34m\u001b[0m\u001b[0m\n\u001b[1;32m    175\u001b[0m   )\n\u001b[0;32m--> 176\u001b[0;31m   \u001b[0;32mreturn\u001b[0m \u001b[0mread_reply_from_input\u001b[0m\u001b[0;34m(\u001b[0m\u001b[0mrequest_id\u001b[0m\u001b[0;34m,\u001b[0m \u001b[0mtimeout_sec\u001b[0m\u001b[0;34m)\u001b[0m\u001b[0;34m\u001b[0m\u001b[0;34m\u001b[0m\u001b[0m\n\u001b[0m",
            "\u001b[0;32m/usr/local/lib/python3.10/dist-packages/google/colab/_message.py\u001b[0m in \u001b[0;36mread_reply_from_input\u001b[0;34m(message_id, timeout_sec)\u001b[0m\n\u001b[1;32m     94\u001b[0m     \u001b[0mreply\u001b[0m \u001b[0;34m=\u001b[0m \u001b[0m_read_next_input_message\u001b[0m\u001b[0;34m(\u001b[0m\u001b[0;34m)\u001b[0m\u001b[0;34m\u001b[0m\u001b[0;34m\u001b[0m\u001b[0m\n\u001b[1;32m     95\u001b[0m     \u001b[0;32mif\u001b[0m \u001b[0mreply\u001b[0m \u001b[0;34m==\u001b[0m \u001b[0m_NOT_READY\u001b[0m \u001b[0;32mor\u001b[0m \u001b[0;32mnot\u001b[0m \u001b[0misinstance\u001b[0m\u001b[0;34m(\u001b[0m\u001b[0mreply\u001b[0m\u001b[0;34m,\u001b[0m \u001b[0mdict\u001b[0m\u001b[0;34m)\u001b[0m\u001b[0;34m:\u001b[0m\u001b[0;34m\u001b[0m\u001b[0;34m\u001b[0m\u001b[0m\n\u001b[0;32m---> 96\u001b[0;31m       \u001b[0mtime\u001b[0m\u001b[0;34m.\u001b[0m\u001b[0msleep\u001b[0m\u001b[0;34m(\u001b[0m\u001b[0;36m0.025\u001b[0m\u001b[0;34m)\u001b[0m\u001b[0;34m\u001b[0m\u001b[0;34m\u001b[0m\u001b[0m\n\u001b[0m\u001b[1;32m     97\u001b[0m       \u001b[0;32mcontinue\u001b[0m\u001b[0;34m\u001b[0m\u001b[0;34m\u001b[0m\u001b[0m\n\u001b[1;32m     98\u001b[0m     if (\n",
            "\u001b[0;31mKeyboardInterrupt\u001b[0m: "
          ]
        }
      ],
      "source": [
        "import pandas as pd\n",
        "import re\n",
        "from tensorflow.keras.preprocessing.text import Tokenizer\n",
        "from tensorflow.keras.preprocessing.sequence import pad_sequences\n",
        "from tensorflow.keras.models import Sequential\n",
        "from tensorflow.keras.layers import Embedding, Conv1D, GlobalMaxPooling1D, Dense, Dropout\n",
        "from sklearn.preprocessing import LabelEncoder\n",
        "import joblib\n",
        "\n",
        "# Function to clean email bodies\n",
        "def clean_email_bodies(email_bodies):\n",
        "    cleaned_bodies = []\n",
        "    for body in email_bodies:\n",
        "        # Remove the subject (if present)\n",
        "        body = re.sub(r\"Subject:.*\", \"\", body, flags=re.IGNORECASE)\n",
        "        # Remove the signature (if present)\n",
        "        body = re.sub(r\"--.*\", \"\", body, flags=re.DOTALL)\n",
        "        # Remove email addresses\n",
        "        body = re.sub(r\"\\S+@\\S+\", \"\", body)\n",
        "        # Remove phone numbers\n",
        "        body = re.sub(r\"\\d{10,}\", \"\", body)\n",
        "        # Remove extra whitespaces\n",
        "        body = re.sub(r\"\\s+\", \" \", body)\n",
        "        cleaned_bodies.append(body.strip())\n",
        "    return cleaned_bodies\n",
        "\n",
        "# Mount Google Drive\n",
        "from google.colab import drive\n",
        "drive.mount('/content/drive')\n",
        "\n",
        "# File path to save the trained model in Google Drive\n",
        "model_save_path = '/content/drive/MyDrive/Models/email_classification_model.h5'\n",
        "# File path to save the label encoder in Google Drive\n",
        "label_encoder_save_path = '/content/drive/MyDrive/Models/label_encoder.joblib'\n",
        "\n",
        "# File path to the dataset in Google Drive\n",
        "dataset_path = '/content/drive/MyDrive/DataSets/DemoDataSet.csv'\n",
        "\n",
        "# Step 1: Load and preprocess the dataset\n",
        "data = pd.read_csv(dataset_path)\n",
        "labels = data['Label']\n",
        "email_bodies = data['Email Body']\n",
        "\n",
        "# Clean the email bodies\n",
        "email_bodies_cleaned = clean_email_bodies(email_bodies)\n",
        "\n",
        "# Encode the labels to integers\n",
        "label_encoder = LabelEncoder()\n",
        "labels_encoded = label_encoder.fit_transform(labels)\n",
        "\n",
        "# Save the label encoder\n",
        "joblib.dump(label_encoder, label_encoder_save_path)\n",
        "\n",
        "# Tokenize the text data and convert to numerical representation\n",
        "max_words = 10000\n",
        "tokenizer = Tokenizer(num_words=max_words)\n",
        "tokenizer.fit_on_texts(email_bodies_cleaned)\n",
        "sequences = tokenizer.texts_to_sequences(email_bodies_cleaned)\n",
        "max_sequence_length = max(len(sequence) for sequence in sequences)\n",
        "X = pad_sequences(sequences, maxlen=max_sequence_length)\n",
        "\n",
        "# Step 2: Split the dataset into training and testing sets\n",
        "from sklearn.model_selection import train_test_split\n",
        "X_train, X_test, y_train, y_test = train_test_split(X, labels_encoded, test_size=0.2, random_state=42)\n",
        "\n",
        "# Step 3: Build the CNN model\n",
        "embedding_dim = 100\n",
        "model = Sequential()\n",
        "model.add(Embedding(max_words, embedding_dim, input_length=max_sequence_length))\n",
        "model.add(Conv1D(128, 5, activation='relu'))\n",
        "model.add(GlobalMaxPooling1D())\n",
        "model.add(Dense(64, activation='relu'))\n",
        "model.add(Dropout(0.5))  # Dropout layer to reduce overfitting\n",
        "model.add(Dense(len(label_encoder.classes_), activation='softmax'))  # Output layer with softmax for multiple classes\n",
        "\n",
        "model.compile(loss='sparse_categorical_crossentropy', optimizer='adam', metrics=['accuracy'])\n",
        "\n",
        "# Step 4: Train the model on the training data\n",
        "batch_size = 32\n",
        "epochs = 10\n",
        "model.fit(X_train, y_train, batch_size=batch_size, epochs=epochs, validation_split=0.2)\n",
        "\n",
        "# Step 5: Save the trained model\n",
        "model.save(model_save_path)\n",
        "print(f\"Model saved at: {model_save_path}\")\n",
        "\n",
        "# Step 6: Evaluate the model on the testing data\n",
        "loss, accuracy = model.evaluate(X_test, y_test)\n",
        "print(f\"Test accuracy: {accuracy * 100:.2f}%\")\n",
        "\n"
      ]
    },
    {
      "cell_type": "code",
      "execution_count": null,
      "metadata": {
        "colab": {
          "base_uri": "https://localhost:8080/"
        },
        "id": "TlGWyjWb0EqA",
        "outputId": "ccbe5450-63e5-45c8-abc2-76926c0faf14"
      },
      "outputs": [
        {
          "name": "stdout",
          "output_type": "stream",
          "text": [
            "Enter the body of the email: can you verify the below employee\n",
            "1/1 [==============================] - 0s 117ms/step\n",
            "Predicted Label: Employment Verification\n",
            "Confidence Score: 0.5291\n"
          ]
        }
      ],
      "source": [
        "import pandas as pd\n",
        "import re\n",
        "from tensorflow.keras.models import load_model\n",
        "from tensorflow.keras.preprocessing.text import Tokenizer\n",
        "from tensorflow.keras.preprocessing.sequence import pad_sequences\n",
        "import joblib\n",
        "import numpy as np\n",
        "\n",
        "# Function to clean email bodies\n",
        "def clean_email_body(email_body):\n",
        "    # Remove the subject (if present)\n",
        "    body = re.sub(r\"Subject:.*\", \"\", email_body, flags=re.IGNORECASE)\n",
        "    # Remove the signature (if present)\n",
        "    body = re.sub(r\"--.*\", \"\", body, flags=re.DOTALL)\n",
        "    # Remove email addresses\n",
        "    body = re.sub(r\"\\S+@\\S+\", \"\", body)\n",
        "    # Remove phone numbers\n",
        "    body = re.sub(r\"\\d{10,}\", \"\", body)\n",
        "    # Remove extra whitespaces\n",
        "    body = re.sub(r\"\\s+\", \" \", body)\n",
        "    return body.strip()\n",
        "\n",
        "# File path to the saved model in Google Drive\n",
        "model_path = '/content/drive/MyDrive/Models/email_classification_model.h5'\n",
        "# File path to the label encoder in Google Drive\n",
        "label_encoder_path = '/content/drive/MyDrive/Models/label_encoder.joblib'\n",
        "\n",
        "# Load the trained model\n",
        "model = load_model(model_path)\n",
        "\n",
        "# Load the label encoder\n",
        "label_encoder = joblib.load(label_encoder_path)\n",
        "\n",
        "# Get user input for email body\n",
        "new_email_body = input(\"Enter the body of the email: \")\n",
        "cleaned_email_body = clean_email_body(new_email_body)\n",
        "\n",
        "# Preprocess the new data\n",
        "sequences = tokenizer.texts_to_sequences([cleaned_email_body])\n",
        "X_new = pad_sequences(sequences, maxlen=max_sequence_length)\n",
        "\n",
        "# Make predictions using the model\n",
        "predictions = model.predict(X_new)\n",
        "\n",
        "# Decode the predictions to their original labels and confidence scores\n",
        "predicted_labels = label_encoder.inverse_transform(predictions.argmax(axis=1))\n",
        "confidence_scores = np.max(predictions, axis=1)\n",
        "\n",
        "# Print the prediction and confidence score\n",
        "print(f\"Predicted Label: {predicted_labels[0]}\")\n",
        "print(f\"Confidence Score: {confidence_scores[0]:.4f}\")\n"
      ]
    }
  ],
  "metadata": {
    "colab": {
      "provenance": [],
      "authorship_tag": "ABX9TyPh8+aPu4Qtk+IH9FX7UYDC",
      "include_colab_link": true
    },
    "kernelspec": {
      "display_name": "Python 3",
      "name": "python3"
    },
    "language_info": {
      "name": "python"
    }
  },
  "nbformat": 4,
  "nbformat_minor": 0
}